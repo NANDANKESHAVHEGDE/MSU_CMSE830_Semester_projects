{
 "cells": [
  {
   "cell_type": "markdown",
   "id": "cfe37baf",
   "metadata": {},
   "source": [
    "# Lets create a sample data"
   ]
  },
  {
   "cell_type": "code",
   "execution_count": 1,
   "id": "b9867c3d",
   "metadata": {
    "ExecuteTime": {
     "end_time": "2024-10-19T02:17:50.233081Z",
     "start_time": "2024-10-19T02:17:48.908008Z"
    }
   },
   "outputs": [
    {
     "name": "stderr",
     "output_type": "stream",
     "text": [
      "C:\\Users\\Nandan Hegde\\anaconda3\\Lib\\site-packages\\pandas\\core\\arrays\\masked.py:60: UserWarning: Pandas requires version '1.3.6' or newer of 'bottleneck' (version '1.3.5' currently installed).\n",
      "  from pandas.core import (\n"
     ]
    }
   ],
   "source": [
    "import pandas as pd\n",
    "import random"
   ]
  },
  {
   "cell_type": "code",
   "execution_count": 2,
   "id": "9f793b65",
   "metadata": {
    "ExecuteTime": {
     "end_time": "2024-10-19T02:19:39.595222Z",
     "start_time": "2024-10-19T02:17:50.236077Z"
    }
   },
   "outputs": [],
   "source": [
    "balanced_df = pd.read_pickle('./../../NLP_NLG_Recipe_prediction_generation_app_data/Data_Diagnostics_data/balanced_recipes_dataset.pkl')"
   ]
  },
  {
   "cell_type": "code",
   "execution_count": 3,
   "id": "fbf64b28",
   "metadata": {
    "ExecuteTime": {
     "end_time": "2024-10-19T02:19:39.696951Z",
     "start_time": "2024-10-19T02:19:39.633096Z"
    }
   },
   "outputs": [
    {
     "name": "stdout",
     "output_type": "stream",
     "text": [
      "{'italian': 100000, 'mexican': 45055, 'chinese': 43418, 'indian': 6376, 'mediterranean': 2441, 'southern_us': 1991, 'spanish': 284, 'japanese': 280, 'middle eastern': 56, 'vietnamese': 45, 'greek': 43, 'french': 2, 'jamaican': 1, 'moroccan': 1, 'brazilian': 1, 'cajun_creole': 0}\n"
     ]
    }
   ],
   "source": [
    "# Original cuisine counts\n",
    "cuisine_counts = {\n",
    "    'italian': 1793939,\n",
    "    'mexican': 808277,\n",
    "    'chinese': 778904,\n",
    "    'indian': 114397,\n",
    "    'mediterranean': 43804,\n",
    "    'southern_us': 35726,\n",
    "    'spanish': 5096,\n",
    "    'japanese': 5027,\n",
    "    'middle eastern': 1007,\n",
    "    'vietnamese': 818,\n",
    "    'greek': 774,\n",
    "    'french': 38,\n",
    "    'jamaican': 26,\n",
    "    'moroccan': 19,\n",
    "    'brazilian': 19,\n",
    "    'cajun_creole': 7\n",
    "}\n",
    "\n",
    "# Total sample size\n",
    "sample_size = 200000  # 1 million\n",
    "\n",
    "# Calculate the total number of rows in the original dataset\n",
    "total_rows = sum(cuisine_counts.values())\n",
    "\n",
    "# Calculate the proportionate number of rows for each cuisine\n",
    "sample_counts = {cuisine: int(count / total_rows * sample_size) for cuisine, count in cuisine_counts.items()}\n",
    "\n",
    "# Print the sample sizes to verify\n",
    "print(sample_counts)\n"
   ]
  },
  {
   "cell_type": "code",
   "execution_count": 4,
   "id": "73d2b405",
   "metadata": {
    "ExecuteTime": {
     "end_time": "2024-10-19T02:19:39.709399Z",
     "start_time": "2024-10-19T02:19:39.701171Z"
    }
   },
   "outputs": [],
   "source": [
    "# !pip install --upgrade pandas"
   ]
  },
  {
   "cell_type": "code",
   "execution_count": 5,
   "id": "fc3cc7cd",
   "metadata": {
    "ExecuteTime": {
     "end_time": "2024-10-19T02:19:39.724272Z",
     "start_time": "2024-10-19T02:19:39.717579Z"
    }
   },
   "outputs": [
    {
     "name": "stdout",
     "output_type": "stream",
     "text": [
      "2.2.3\n"
     ]
    }
   ],
   "source": [
    "print(pd.__version__)"
   ]
  },
  {
   "cell_type": "code",
   "execution_count": 6,
   "id": "c630734f",
   "metadata": {
    "ExecuteTime": {
     "end_time": "2024-10-19T02:19:44.697140Z",
     "start_time": "2024-10-19T02:19:39.728156Z"
    }
   },
   "outputs": [
    {
     "name": "stdout",
     "output_type": "stream",
     "text": [
      "(199994, 9)\n"
     ]
    }
   ],
   "source": [
    "def sample_cuisine_data(df, cuisine, sample_count):\n",
    "    # Sample rows for the given cuisine\n",
    "    return df[df['cuisine'] == cuisine].sample(n=sample_count, random_state=42)\n",
    "\n",
    "# List to hold sampled DataFrames\n",
    "sampled_dfs = []\n",
    "\n",
    "# For each cuisine, sample the calculated number of rows\n",
    "for cuisine, count in sample_counts.items():\n",
    "    sampled_dfs.append(sample_cuisine_data(balanced_df, cuisine, count))\n",
    "\n",
    "# Concatenate all sampled DataFrames into one\n",
    "sampled_df = pd.concat(sampled_dfs)\n",
    "\n",
    "# Verify the shape of the sampled data\n",
    "print(sampled_df.shape)\n",
    "\n",
    "# Optionally save the sampled dataset to CSV\n",
    "# sampled_df.to_csv('balanced_sampled_recipes_dataset.csv', index=False)\n",
    "sampled_df.to_pickle('balanced_sampled_recipes_dataset_v2.pkl')"
   ]
  }
 ],
 "metadata": {
  "kernelspec": {
   "display_name": "Python 3 (ipykernel)",
   "language": "python",
   "name": "python3"
  },
  "language_info": {
   "codemirror_mode": {
    "name": "ipython",
    "version": 3
   },
   "file_extension": ".py",
   "mimetype": "text/x-python",
   "name": "python",
   "nbconvert_exporter": "python",
   "pygments_lexer": "ipython3",
   "version": "3.11.3"
  },
  "toc": {
   "base_numbering": 1,
   "nav_menu": {},
   "number_sections": true,
   "sideBar": true,
   "skip_h1_title": false,
   "title_cell": "Table of Contents",
   "title_sidebar": "Contents",
   "toc_cell": false,
   "toc_position": {
    "height": "calc(100% - 180px)",
    "left": "10px",
    "top": "150px",
    "width": "259.542px"
   },
   "toc_section_display": true,
   "toc_window_display": true
  }
 },
 "nbformat": 4,
 "nbformat_minor": 5
}
