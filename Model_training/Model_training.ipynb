{
 "cells": [
  {
   "cell_type": "markdown",
   "id": "86c0578c",
   "metadata": {},
   "source": [
    "# Model training"
   ]
  },
  {
   "cell_type": "code",
   "execution_count": 1,
   "id": "19a443fa",
   "metadata": {
    "ExecuteTime": {
     "end_time": "2024-10-19T02:23:29.880104Z",
     "start_time": "2024-10-19T02:23:29.874765Z"
    },
    "scrolled": true
   },
   "outputs": [],
   "source": [
    "# !pip install scikit-learn==1.5.2"
   ]
  },
  {
   "cell_type": "code",
   "execution_count": 2,
   "id": "e7f4899f",
   "metadata": {
    "ExecuteTime": {
     "end_time": "2024-10-19T02:23:33.198823Z",
     "start_time": "2024-10-19T02:23:29.883918Z"
    }
   },
   "outputs": [
    {
     "name": "stderr",
     "output_type": "stream",
     "text": [
      "C:\\Users\\Nandan Hegde\\anaconda3\\Lib\\site-packages\\pandas\\core\\arrays\\masked.py:60: UserWarning: Pandas requires version '1.3.6' or newer of 'bottleneck' (version '1.3.5' currently installed).\n",
      "  from pandas.core import (\n"
     ]
    }
   ],
   "source": [
    "import pandas as pd\n",
    "import pickle\n",
    "import os\n",
    "import warnings\n",
    "import sklearn\n",
    "warnings.filterwarnings('ignore')\n",
    "\n",
    "from sklearn.ensemble import RandomForestClassifier\n",
    "from sklearn.preprocessing import LabelEncoder\n",
    "from sklearn.model_selection import train_test_split\n",
    "from sklearn.metrics import accuracy_score"
   ]
  },
  {
   "cell_type": "code",
   "execution_count": 3,
   "id": "5c1014fd",
   "metadata": {
    "ExecuteTime": {
     "end_time": "2024-10-19T02:23:33.210622Z",
     "start_time": "2024-10-19T02:23:33.202270Z"
    }
   },
   "outputs": [
    {
     "name": "stdout",
     "output_type": "stream",
     "text": [
      "1.5.2\n"
     ]
    }
   ],
   "source": [
    "print(sklearn.__version__)"
   ]
  },
  {
   "cell_type": "code",
   "execution_count": 4,
   "id": "62915eb5",
   "metadata": {
    "ExecuteTime": {
     "end_time": "2024-10-19T02:23:39.923972Z",
     "start_time": "2024-10-19T02:23:33.213848Z"
    }
   },
   "outputs": [
    {
     "name": "stdout",
     "output_type": "stream",
     "text": [
      "Model accuracy: 0.5030\n",
      "Model and LabelEncoder saved to trained_cuisine_prediction_model_v2.pkl\n"
     ]
    }
   ],
   "source": [
    "# --- Step 1: Load and Preprocess Data ---\n",
    "# Assuming your balanced_df is loaded similarly to your Streamlit app\n",
    "def load_local_data(file_path):\n",
    "    with open(file_path, 'rb') as f:\n",
    "        balanced_df = pickle.load(f)\n",
    "    return balanced_df\n",
    "\n",
    "# Replace this with the path to your local pickle file\n",
    "file_path = r\"C:\\Users\\Nandan Hegde\\OneDrive\\Documents\\GitHub\\MSU_CMSE830_Semester_projects\\NLP_NLG_Recipe_prediction_generation_app_data\\Sample_data\\balanced_sampled_recipes_dataset_v2.pkl\"\n",
    "balanced_df = load_local_data(file_path)\n",
    "\n",
    "# Add a column for number of unique ingredients (just like in the app)\n",
    "balanced_df['num_unique_ingredients'] = balanced_df['ingredients_list'].apply(lambda x: len(set(x.split())))\n",
    "\n",
    "# --- Step 2: Data Preparation ---\n",
    "# Encode the target variable (cuisine)\n",
    "le = LabelEncoder()\n",
    "balanced_df['cuisine_encoded'] = le.fit_transform(balanced_df['cuisine'])\n",
    "\n",
    "# Features and target variable\n",
    "X = balanced_df['num_unique_ingredients'].values.reshape(-1, 1)  # Using number of unique ingredients as the only feature\n",
    "y = balanced_df['cuisine_encoded']\n",
    "\n",
    "# Split into training and test sets (optional for evaluation)\n",
    "X_train, X_test, y_train, y_test = train_test_split(X, y, test_size=0.2, random_state=42)\n",
    "\n",
    "# --- Step 3: Train the Model ---\n",
    "model = RandomForestClassifier(n_estimators=100, random_state=42)\n",
    "model.fit(X_train, y_train)\n",
    "\n",
    "# --- Step 4: Evaluate the Model (Optional) ---\n",
    "# If you want to evaluate how well the model performs on the test set\n",
    "y_pred = model.predict(X_test)\n",
    "accuracy = accuracy_score(y_test, y_pred)\n",
    "print(f\"Model accuracy: {accuracy:.4f}\")\n",
    "\n",
    "# --- Step 5: Save the Model and Label Encoder ---\n",
    "# Save the trained model and label encoder to a pickle file\n",
    "output_path = \"trained_cuisine_prediction_model_v2.pkl\"\n",
    "with open(output_path, 'wb') as f:\n",
    "    pickle.dump((model, le), f)\n",
    "\n",
    "print(f\"Model and LabelEncoder saved to {output_path}\")\n"
   ]
  }
 ],
 "metadata": {
  "kernelspec": {
   "display_name": "Python 3 (ipykernel)",
   "language": "python",
   "name": "python3"
  },
  "language_info": {
   "codemirror_mode": {
    "name": "ipython",
    "version": 3
   },
   "file_extension": ".py",
   "mimetype": "text/x-python",
   "name": "python",
   "nbconvert_exporter": "python",
   "pygments_lexer": "ipython3",
   "version": "3.11.3"
  },
  "toc": {
   "base_numbering": 1,
   "nav_menu": {},
   "number_sections": true,
   "sideBar": true,
   "skip_h1_title": false,
   "title_cell": "Table of Contents",
   "title_sidebar": "Contents",
   "toc_cell": false,
   "toc_position": {
    "height": "calc(100% - 180px)",
    "left": "10px",
    "top": "150px",
    "width": "260.542px"
   },
   "toc_section_display": true,
   "toc_window_display": true
  }
 },
 "nbformat": 4,
 "nbformat_minor": 5
}
