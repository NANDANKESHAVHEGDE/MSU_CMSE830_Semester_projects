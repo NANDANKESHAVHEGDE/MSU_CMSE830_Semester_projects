{
 "cells": [
  {
   "cell_type": "markdown",
   "id": "903bfe3d",
   "metadata": {},
   "source": [
    "# Import Libraries"
   ]
  },
  {
   "cell_type": "code",
   "execution_count": 1,
   "id": "ae2e3bf7",
   "metadata": {
    "ExecuteTime": {
     "end_time": "2024-10-14T03:34:19.987653Z",
     "start_time": "2024-10-14T03:34:09.468254Z"
    }
   },
   "outputs": [],
   "source": [
    "import pandas as pd\n",
    "import numpy as np\n",
    "import json\n",
    "import matplotlib.pyplot as plt\n",
    "import requests\n",
    "from sklearn.feature_extraction.text import TfidfVectorizer\n",
    "from sklearn.cluster import KMeans\n",
    "from sklearn.decomposition import TruncatedSVD\n",
    "import warnings\n",
    "warnings.filterwarnings('ignore')\n",
    "\n",
    "from collections import Counter\n",
    "from transformers import GPT2LMHeadModel, GPT2Tokenizer"
   ]
  },
  {
   "cell_type": "markdown",
   "id": "e9ded2a9",
   "metadata": {},
   "source": [
    "# Pre-processing of data"
   ]
  },
  {
   "cell_type": "markdown",
   "id": "58dd9d0e",
   "metadata": {},
   "source": [
    "## Data Source1"
   ]
  },
  {
   "cell_type": "code",
   "execution_count": 2,
   "id": "2a0b49bb",
   "metadata": {
    "ExecuteTime": {
     "end_time": "2024-10-14T03:34:20.630651Z",
     "start_time": "2024-10-14T03:34:19.991643Z"
    }
   },
   "outputs": [],
   "source": [
    "# Load the JSON data (adjust the file path)\n",
    "with open('./../Data_source1/Ingredient_list_train/train.json', 'r') as f:\n",
    "    data = json.load(f)\n",
    "\n",
    "# Convert the data to a DataFrame\n",
    "recipes_df = pd.json_normalize(data)"
   ]
  },
  {
   "cell_type": "code",
   "execution_count": 3,
   "id": "a3c8f5f1",
   "metadata": {},
   "outputs": [
    {
     "data": {
      "text/html": [
       "<div>\n",
       "<style scoped>\n",
       "    .dataframe tbody tr th:only-of-type {\n",
       "        vertical-align: middle;\n",
       "    }\n",
       "\n",
       "    .dataframe tbody tr th {\n",
       "        vertical-align: top;\n",
       "    }\n",
       "\n",
       "    .dataframe thead th {\n",
       "        text-align: right;\n",
       "    }\n",
       "</style>\n",
       "<table border=\"1\" class=\"dataframe\">\n",
       "  <thead>\n",
       "    <tr style=\"text-align: right;\">\n",
       "      <th></th>\n",
       "      <th>cuisine</th>\n",
       "      <th>ingredients</th>\n",
       "    </tr>\n",
       "  </thead>\n",
       "  <tbody>\n",
       "    <tr>\n",
       "      <th>0</th>\n",
       "      <td>greek</td>\n",
       "      <td>(romaine lettuce, black olives, grape tomatoes...</td>\n",
       "    </tr>\n",
       "    <tr>\n",
       "      <th>1</th>\n",
       "      <td>southern_us</td>\n",
       "      <td>(plain flour, ground pepper, salt, tomatoes, g...</td>\n",
       "    </tr>\n",
       "    <tr>\n",
       "      <th>2</th>\n",
       "      <td>filipino</td>\n",
       "      <td>(eggs, pepper, salt, mayonaise, cooking oil, g...</td>\n",
       "    </tr>\n",
       "    <tr>\n",
       "      <th>3</th>\n",
       "      <td>indian</td>\n",
       "      <td>(water, vegetable oil, wheat, salt)</td>\n",
       "    </tr>\n",
       "    <tr>\n",
       "      <th>4</th>\n",
       "      <td>indian</td>\n",
       "      <td>(black pepper, shallots, cornflour, cayenne pe...</td>\n",
       "    </tr>\n",
       "  </tbody>\n",
       "</table>\n",
       "</div>"
      ],
      "text/plain": [
       "       cuisine                                        ingredients\n",
       "0        greek  (romaine lettuce, black olives, grape tomatoes...\n",
       "1  southern_us  (plain flour, ground pepper, salt, tomatoes, g...\n",
       "2     filipino  (eggs, pepper, salt, mayonaise, cooking oil, g...\n",
       "3       indian                (water, vegetable oil, wheat, salt)\n",
       "4       indian  (black pepper, shallots, cornflour, cayenne pe..."
      ]
     },
     "execution_count": 3,
     "metadata": {},
     "output_type": "execute_result"
    }
   ],
   "source": [
    "# Convert the 'ingredients' column from lists to tuples\n",
    "recipes_df['ingredients'] = recipes_df['ingredients'].apply(tuple)\n",
    "\n",
    "# Now apply drop_duplicates\n",
    "recipes_df_clean = recipes_df.drop_duplicates()\n",
    "\n",
    "# Ensure there are no missing values in 'cuisine' and 'ingredients'\n",
    "recipes_df_clean = recipes_df_clean.dropna(subset=['cuisine', 'ingredients'])\n",
    "\n",
    "# Extract the ingredient lists and cuisines\n",
    "ingredients_df = recipes_df_clean[['cuisine', 'ingredients']].copy()\n",
    "\n",
    "# Display the cleaned data\n",
    "ingredients_df.head()"
   ]
  },
  {
   "cell_type": "markdown",
   "id": "ab4f97ce",
   "metadata": {},
   "source": [
    "## Data Source2"
   ]
  },
  {
   "cell_type": "code",
   "execution_count": 4,
   "id": "6241206e",
   "metadata": {},
   "outputs": [],
   "source": [
    "# Sample 100 random ingredients from the original list\n",
    "sampled_ingredients_df = ingredients_df.sample(n=100, random_state=1)  # Setting random_state for reproducibility\n",
    "\n",
    "# Spoonacular API key (replace with your actual API key)\n",
    "# api_key = '85e0d17788944bbfb85f8a9e2307c94b' # account1 \n",
    "# api_key = '178e8ce72a2e49ebabbc77490de51430' # account2 \n",
    "api_key = 'e47b410ad742498f8509bdc2379bfd09' # account3\n",
    "\n",
    "# Function to fetch recipes from Spoonacular API for a single list of ingredients\n",
    "def fetch_spoonacular_recipes(ingredients_list, api_key):\n",
    "    ingredients_text = ','.join(ingredients_list)\n",
    "    \n",
    "    # Spoonacular API endpoint\n",
    "    url = f\"https://api.spoonacular.com/recipes/findByIngredients?ingredients={ingredients_text}&number=5&apiKey={api_key}\"\n",
    "    \n",
    "    # Send request to Spoonacular API\n",
    "    response = requests.get(url)\n",
    "    \n",
    "    # Parse the response\n",
    "    if response.status_code == 200:\n",
    "        recipes = response.json()\n",
    "        \n",
    "        # Extract relevant information for each recipe (e.g., title, ingredients, instructions)\n",
    "        recipe_data = []\n",
    "        for recipe in recipes:\n",
    "            recipe_id = recipe['id']\n",
    "            title = recipe['title']\n",
    "            \n",
    "            # Fetch detailed information for each recipe (ingredients, instructions)\n",
    "            details_url = f\"https://api.spoonacular.com/recipes/{recipe_id}/information?apiKey={api_key}\"\n",
    "            details_response = requests.get(details_url)\n",
    "            \n",
    "            if details_response.status_code == 200:\n",
    "                details = details_response.json()\n",
    "                ingredients = [ingredient['name'] for ingredient in details['extendedIngredients']]\n",
    "                instructions = details['instructions']\n",
    "                \n",
    "                # Append the data to a list\n",
    "                recipe_data.append({\n",
    "                    'id': recipe_id,\n",
    "                    'title': title,\n",
    "                    'ingredients': ingredients,\n",
    "                    'instructions': instructions\n",
    "                })\n",
    "        \n",
    "        # Convert the list of recipes to a pandas DataFrame\n",
    "        return pd.DataFrame(recipe_data)\n",
    "    \n",
    "    else:\n",
    "        print(f\"Error: Unable to fetch data. Status Code {response.status_code}\")\n",
    "        return None\n",
    "\n",
    "# Function to fetch recipes for all ingredient lists extracted from the original dataset\n",
    "def fetch_recipes_from_original_data(sampled_ingredients_df, api_key):\n",
    "    all_recipes = pd.DataFrame()  # Initialize an empty DataFrame to store all recipes\n",
    "    \n",
    "    for index, row in sampled_ingredients_df.iterrows():\n",
    "        ingredients = row['ingredients']  # Extract the ingredients list\n",
    "        print(f\"Fetching recipes for ingredients: {ingredients}\")\n",
    "        recipes_df = fetch_spoonacular_recipes(ingredients, api_key)\n",
    "        \n",
    "        if recipes_df is not None:\n",
    "            # Append the new recipes to the existing DataFrame with cuisine information\n",
    "            recipes_df['cuisine'] = row['cuisine']  # Add cuisine information\n",
    "            all_recipes = pd.concat([all_recipes, recipes_df], ignore_index=True)\n",
    "    \n",
    "    return all_recipes\n",
    "\n",
    "# Fetch recipes for all ingredient lists in the ingredients_df DataFrame\n",
    "all_recipes_df = fetch_recipes_from_original_data(sampled_ingredients_df, api_key)\n",
    "all_recipes_df.to_pickle('./Data_source1/Ingredient_list_train/all_recipes.pkl')\n",
    "\n",
    "\n",
    "# Display the combined recipes data\n",
    "if not all_recipes_df.empty:\n",
    "    print(all_recipes_df.head())"
   ]
  },
  {
   "cell_type": "code",
   "execution_count": 5,
   "id": "b17ea2b9",
   "metadata": {},
   "outputs": [
    {
     "name": "stdout",
     "output_type": "stream",
     "text": [
      "       id                                              title  \\\n",
      "0  635601                                   Boiled Egg Curry   \n",
      "1  637264                              Cashew Butter Chicken   \n",
      "2  637935  Chicken and Vegetarian Tamales With Red Mole S...   \n",
      "3  640621                        Creamy Chicken Tikka Masala   \n",
      "4  650484                              Luscious Palak Paneer   \n",
      "\n",
      "                                         ingredients  \\\n",
      "0  [canola oil, chilli powder, hardboiled eggs, c...   \n",
      "1  [cayenne pepper, cumin seeds, fenugreek leaves...   \n",
      "2  [roma tomatoes, onions, garlic cloves, olive o...   \n",
      "3  [pepper, tomato sauce, cayenne pepper, cilantr...   \n",
      "4  [baking powder, cardamom powder, cinnamon powd...   \n",
      "\n",
      "                                        instructions cuisine  \n",
      "0  <ol><li>Boil 4 eggs in boiling water for about...  indian  \n",
      "1  <ol><li>Preheat oven to 425F. Line a baking tr...  indian  \n",
      "2  On day 1, take a whole bag of dried corn husks...  indian  \n",
      "3  <ol><li>In a large bowl, combine yogurt, lemon...  indian  \n",
      "4  <ol><li>Blanch the spinach in hot water with a...  indian  \n"
     ]
    }
   ],
   "source": [
    "all_recipes_df = pd.read_pickle('./../Data_source1/Ingredient_list_train/all_recipes.pkl')\n",
    "print(all_recipes_df.head())"
   ]
  },
  {
   "cell_type": "markdown",
   "id": "7a5c5d1f",
   "metadata": {},
   "source": [
    "## Data Source3"
   ]
  },
  {
   "cell_type": "code",
   "execution_count": 6,
   "id": "2775e059",
   "metadata": {},
   "outputs": [
    {
     "name": "stdout",
     "output_type": "stream",
     "text": [
      "   Unnamed: 0                  title  \\\n",
      "0           0    No-Bake Nut Cookies   \n",
      "1           1  Jewell Ball'S Chicken   \n",
      "2           2            Creamy Corn   \n",
      "3           3          Chicken Funny   \n",
      "4           4   Reeses Cups(Candy)     \n",
      "\n",
      "                                         ingredients  \\\n",
      "0  [\"1 c. firmly packed brown sugar\", \"1/2 c. eva...   \n",
      "1  [\"1 small jar chipped beef, cut up\", \"4 boned ...   \n",
      "2  [\"2 (16 oz.) pkg. frozen corn\", \"1 (8 oz.) pkg...   \n",
      "3  [\"1 large whole chicken\", \"2 (10 1/2 oz.) cans...   \n",
      "4  [\"1 c. peanut butter\", \"3/4 c. graham cracker ...   \n",
      "\n",
      "                                          directions  \\\n",
      "0  [\"In a heavy 2-quart saucepan, mix brown sugar...   \n",
      "1  [\"Place chipped beef on bottom of baking dish....   \n",
      "2  [\"In a slow cooker, combine all ingredients. C...   \n",
      "3  [\"Boil and debone chicken.\", \"Put bite size pi...   \n",
      "4  [\"Combine first four ingredients and press in ...   \n",
      "\n",
      "                                              link    source  \\\n",
      "0   www.cookbooks.com/Recipe-Details.aspx?id=44874  Gathered   \n",
      "1  www.cookbooks.com/Recipe-Details.aspx?id=699419  Gathered   \n",
      "2   www.cookbooks.com/Recipe-Details.aspx?id=10570  Gathered   \n",
      "3  www.cookbooks.com/Recipe-Details.aspx?id=897570  Gathered   \n",
      "4  www.cookbooks.com/Recipe-Details.aspx?id=659239  Gathered   \n",
      "\n",
      "                                                 NER  \n",
      "0  [\"brown sugar\", \"milk\", \"vanilla\", \"nuts\", \"bu...  \n",
      "1  [\"beef\", \"chicken breasts\", \"cream of mushroom...  \n",
      "2  [\"frozen corn\", \"cream cheese\", \"butter\", \"gar...  \n",
      "3  [\"chicken\", \"chicken gravy\", \"cream of mushroo...  \n",
      "4  [\"peanut butter\", \"graham cracker crumbs\", \"bu...  \n",
      "Index(['Unnamed: 0', 'title', 'ingredients', 'directions', 'link', 'source',\n",
      "       'NER'],\n",
      "      dtype='object')\n"
     ]
    }
   ],
   "source": [
    "# Load Kaggle dataset\n",
    "kaggle_recipes_df = pd.read_csv(r'./../Data_source2/RecipeNLG_dataset.csv')\n",
    "\n",
    "# Check dataset columns and structure\n",
    "print(kaggle_recipes_df.head())\n",
    "print(kaggle_recipes_df.columns)\n",
    "\n",
    "# # Drop unnecessary columns (e.g., 'Unnamed: 0')\n",
    "# recipe_nlg_df_clean = recipe_nlg_df.drop(columns=['Unnamed: 0'])\n",
    "\n",
    "# # Check for missing values and clean the dataset\n",
    "# print(recipe_nlg_df_clean.isnull().sum())\n",
    "\n",
    "# # Fill or remove missing data (optional: based on your data strategy)\n",
    "# recipe_nlg_df_clean = recipe_nlg_df_clean.dropna(subset=['title', 'ingredients', 'directions'])\n",
    "\n",
    "# # Display the first few rows of the cleaned data\n",
    "# print(recipe_nlg_df_clean.head())"
   ]
  },
  {
   "cell_type": "code",
   "execution_count": 7,
   "id": "7f55e45f",
   "metadata": {},
   "outputs": [
    {
     "name": "stdout",
     "output_type": "stream",
     "text": [
      "Final Combined Recipes DataFrame Shape: (2231152, 7)\n",
      "Combined Recipes DataFrame:\n",
      "                                        recipe_title  \\\n",
      "0                                   Boiled Egg Curry   \n",
      "1                              Cashew Butter Chicken   \n",
      "2  Chicken and Vegetarian Tamales With Red Mole S...   \n",
      "3                        Creamy Chicken Tikka Masala   \n",
      "4                              Luscious Palak Paneer   \n",
      "\n",
      "                                    ingredients_list  \\\n",
      "0  [canola oil, chilli powder, hardboiled eggs, c...   \n",
      "1  [cayenne pepper, cumin seeds, fenugreek leaves...   \n",
      "2  [roma tomatoes, onions, garlic cloves, olive o...   \n",
      "3  [pepper, tomato sauce, cayenne pepper, cilantr...   \n",
      "4  [baking powder, cardamom powder, cinnamon powd...   \n",
      "\n",
      "                                        instructions cuisine link source  NER  \n",
      "0  <ol><li>Boil 4 eggs in boiling water for about...  indian  NaN    NaN  NaN  \n",
      "1  <ol><li>Preheat oven to 425F. Line a baking tr...  indian  NaN    NaN  NaN  \n",
      "2  On day 1, take a whole bag of dried corn husks...  indian  NaN    NaN  NaN  \n",
      "3  <ol><li>In a large bowl, combine yogurt, lemon...  indian  NaN    NaN  NaN  \n",
      "4  <ol><li>Blanch the spinach in hot water with a...  indian  NaN    NaN  NaN  \n"
     ]
    }
   ],
   "source": [
    "# Rename columns in the Kaggle dataset for consistency\n",
    "kaggle_recipes_df = kaggle_recipes_df.rename(columns={\n",
    "    'title': 'recipe_title',\n",
    "    'ingredients': 'ingredients_list',\n",
    "    'directions': 'instructions'\n",
    "})\n",
    "\n",
    "# Ensure the ingredients are in a list format if they are stored as strings\n",
    "kaggle_recipes_df['ingredients_list'] = kaggle_recipes_df['ingredients_list'].apply(\n",
    "    lambda x: x.split(', ') if isinstance(x, str) else []\n",
    ")\n",
    "\n",
    "# Convert list of ingredients to a tuple for uniqueness checking\n",
    "kaggle_recipes_df['ingredients_list'] = kaggle_recipes_df['ingredients_list'].apply(\n",
    "    lambda x: tuple(x) if isinstance(x, list) else ()\n",
    ")\n",
    "\n",
    "# Now we have the Spoonacular recipes stored in all_recipes_df from the previous code\n",
    "# Ensure the columns match for concatenation in the Spoonacular dataset\n",
    "all_recipes_df = all_recipes_df.rename(columns={\n",
    "    'title': 'recipe_title',\n",
    "    'ingredients': 'ingredients_list'\n",
    "})\n",
    "\n",
    "# Combine the two datasets\n",
    "combined_recipes_df = pd.concat([all_recipes_df, kaggle_recipes_df], ignore_index=True)\n",
    "combined_recipes_df.drop(columns=['Unnamed: 0','id'], inplace=True)\n",
    "\n",
    "# Display the shape of the final combined dataset\n",
    "print(f\"Final Combined Recipes DataFrame Shape: {combined_recipes_df.shape}\")\n",
    "\n",
    "# Display the first few rows of the combined dataset\n",
    "print(\"Combined Recipes DataFrame:\")\n",
    "print(combined_recipes_df.head())"
   ]
  },
  {
   "cell_type": "markdown",
   "id": "655b0a89",
   "metadata": {},
   "source": [
    "# IDA | Initial Data Analysis"
   ]
  },
  {
   "cell_type": "markdown",
   "id": "6106bf6b",
   "metadata": {},
   "source": [
    "## Describe the data"
   ]
  },
  {
   "cell_type": "code",
   "execution_count": 10,
   "id": "9ed707ba",
   "metadata": {
    "scrolled": false
   },
   "outputs": [
    {
     "name": "stdout",
     "output_type": "stream",
     "text": [
      "Shape of DataFrame: (2231152, 7)\n",
      "\n",
      "Data Types and Missing Values:\n",
      "<class 'pandas.core.frame.DataFrame'>\n",
      "RangeIndex: 2231152 entries, 0 to 2231151\n",
      "Data columns (total 7 columns):\n",
      " #   Column            Dtype \n",
      "---  ------            ----- \n",
      " 0   recipe_title      object\n",
      " 1   ingredients_list  object\n",
      " 2   instructions      object\n",
      " 3   cuisine           object\n",
      " 4   link              object\n",
      " 5   source            object\n",
      " 6   NER               object\n",
      "dtypes: object(7)\n",
      "memory usage: 119.2+ MB\n",
      "None\n",
      "\n",
      "Basic Stats for Textual Columns:\n",
      "             recipe_title                                 ingredients_list  \\\n",
      "count             2231152                                          2231152   \n",
      "unique            1312877                                          2226372   \n",
      "top     Chicken Casserole  ([\"1 c. peanut butter\", \"1 c. sugar\", \"1 egg\"])   \n",
      "freq                 4099                                               28   \n",
      "\n",
      "                             instructions cuisine  \\\n",
      "count                             2231152      10   \n",
      "unique                            2211654       2   \n",
      "top     [\"Mix all ingredients together.\"]  indian   \n",
      "freq                                  274       5   \n",
      "\n",
      "                                                  link    source      NER  \n",
      "count                                          2231142   2231142  2231142  \n",
      "unique                                         2231142         2  2133496  \n",
      "top     www.cookbooks.com/Recipe-Details.aspx?id=44874  Gathered       []  \n",
      "freq                                                 1   1643098      573  \n",
      "\n",
      "Missing Values in Each Column:\n",
      "recipe_title              0\n",
      "ingredients_list          0\n",
      "instructions              0\n",
      "cuisine             2231142\n",
      "link                     10\n",
      "source                   10\n",
      "NER                      10\n",
      "dtype: int64\n",
      "\n",
      "Percentage of Missing Values:\n",
      "recipe_title         0.000000\n",
      "ingredients_list     0.000000\n",
      "instructions         0.000000\n",
      "cuisine             99.999552\n",
      "link                 0.000448\n",
      "source               0.000448\n",
      "NER                  0.000448\n",
      "dtype: float64\n"
     ]
    }
   ],
   "source": [
    "# Display data overview\n",
    "print(f\"Shape of DataFrame: {combined_recipes_df.shape}\")\n",
    "print(\"\\nData Types and Missing Values:\")\n",
    "print(combined_recipes_df.info())\n",
    "\n",
    "# Since there are no numerical columns, we'll describe object columns instead\n",
    "print(\"\\nBasic Stats for Textual Columns:\")\n",
    "print(combined_recipes_df.describe(include='object'))\n",
    "\n",
    "# Checking how many missing values we have for each column\n",
    "print(\"\\nMissing Values in Each Column:\")\n",
    "missing_values = combined_recipes_df.isnull().sum()\n",
    "print(missing_values)\n",
    "\n",
    "# Percentage of missing values\n",
    "print(\"\\nPercentage of Missing Values:\")\n",
    "print((missing_values / len(combined_recipes_df)) * 100)"
   ]
  },
  {
   "cell_type": "markdown",
   "id": "04ad16c4",
   "metadata": {},
   "source": [
    "## Data Imputation"
   ]
  },
  {
   "cell_type": "code",
   "execution_count": 14,
   "id": "4786838c",
   "metadata": {},
   "outputs": [
    {
     "name": "stdout",
     "output_type": "stream",
     "text": [
      "Updated 'cuisine' column after ingredient-based imputation:\n",
      "italian          192601\n",
      "mexican          122169\n",
      "chinese           76981\n",
      "indian            23141\n",
      "mediterranean     10623\n",
      "southern_us           5\n",
      "Name: cuisine, dtype: int64\n",
      "Missing values in 'cuisine' after ingredient-based imputation: 1805632\n"
     ]
    }
   ],
   "source": [
    "# Step 1: Define ingredient-to-cuisine mapping\n",
    "ingredient_cuisine_map = {\n",
    "    'turmeric': 'indian',\n",
    "    'garam masala': 'indian',\n",
    "    'ghee': 'indian',\n",
    "    'tortilla': 'mexican',\n",
    "    'jalapeno': 'mexican',\n",
    "    'cilantro': 'mexican',\n",
    "    'soy sauce': 'chinese',\n",
    "    'tofu': 'chinese',\n",
    "    'saffron': 'mediterranean',\n",
    "    'pita': 'mediterranean',\n",
    "    'basil': 'italian',\n",
    "    'mozzarella': 'italian',\n",
    "    'parmesan': 'italian',\n",
    "    # Add more mappings as needed\n",
    "}\n",
    "\n",
    "# Function to infer cuisine based on ingredients\n",
    "def infer_cuisine_from_ingredients(ingredients_list):\n",
    "    # Flatten ingredients list into one string to make keyword matching easier\n",
    "    ingredients_str = ' '.join(ingredients_list).lower()\n",
    "    \n",
    "    # Check if any ingredient matches our predefined ingredient-to-cuisine map\n",
    "    for ingredient, cuisine in ingredient_cuisine_map.items():\n",
    "        if ingredient in ingredients_str:\n",
    "            return cuisine\n",
    "    return None  # If no match is found, return None\n",
    "\n",
    "# Apply the function to fill missing cuisines\n",
    "combined_recipes_df['cuisine'] = combined_recipes_df.apply(\n",
    "    lambda row: infer_cuisine_from_ingredients(row['ingredients_list']) if pd.isnull(row['cuisine']) else row['cuisine'], axis=1\n",
    ")\n",
    "\n",
    "# Check the update\n",
    "print(\"Updated 'cuisine' column after ingredient-based imputation:\")\n",
    "print(combined_recipes_df['cuisine'].value_counts())\n",
    "print(f\"Missing values in 'cuisine' after ingredient-based imputation: {combined_recipes_df['cuisine'].isna().sum()}\")"
   ]
  },
  {
   "cell_type": "code",
   "execution_count": 16,
   "id": "33bd64f5",
   "metadata": {},
   "outputs": [
    {
     "name": "stdout",
     "output_type": "stream",
     "text": [
      "Updated 'cuisine' column after title-based imputation:\n",
      "italian           216018\n",
      "mexican           124106\n",
      "chinese            76981\n",
      "indian             27967\n",
      "mediterranean      10623\n",
      "southern_us         8672\n",
      "spanish             1213\n",
      "japanese            1199\n",
      "middle eastern       231\n",
      "vietnamese           199\n",
      "greek                183\n",
      "Name: cuisine, dtype: int64\n",
      "Missing values in 'cuisine' after title-based imputation: 1763760\n"
     ]
    }
   ],
   "source": [
    "# Step 2: Define recipe title-to-cuisine mapping\n",
    "title_cuisine_map = {\n",
    "    'tikka': 'indian',\n",
    "    'curry': 'indian',\n",
    "    'biryani': 'indian',\n",
    "    'tacos': 'mexican',\n",
    "    'quesadilla': 'mexican',\n",
    "    'enchilada': 'mexican',\n",
    "    'pasta': 'italian',\n",
    "    'lasagna': 'italian',\n",
    "    'pizza': 'italian',\n",
    "    'sushi': 'japanese',\n",
    "    'ramen': 'japanese',\n",
    "    'paella': 'spanish',\n",
    "    'gazpacho': 'spanish',\n",
    "    'souvlaki': 'greek',\n",
    "    'gyros': 'greek',\n",
    "    'falafel': 'middle eastern',\n",
    "    'shawarma': 'middle eastern',\n",
    "    'gumbo': 'southern_us',\n",
    "    'bbq': 'southern_us',\n",
    "    'brisket': 'southern_us',\n",
    "    'pho': 'vietnamese',\n",
    "    'banh mi': 'vietnamese',\n",
    "    # Add more mappings as needed\n",
    "}\n",
    "\n",
    "# Function to infer cuisine based on recipe title\n",
    "def infer_cuisine_from_title(recipe_title):\n",
    "    recipe_title = recipe_title.lower()  # Convert title to lowercase for matching\n",
    "    for keyword, cuisine in title_cuisine_map.items():\n",
    "        if keyword in recipe_title:\n",
    "            return cuisine\n",
    "    return None\n",
    "\n",
    "# Apply the function to fill missing cuisines\n",
    "combined_recipes_df['cuisine'] = combined_recipes_df.apply(\n",
    "    lambda row: infer_cuisine_from_title(row['recipe_title']) if pd.isnull(row['cuisine']) else row['cuisine'], axis=1\n",
    ")\n",
    "\n",
    "# Check the update\n",
    "print(\"Updated 'cuisine' column after title-based imputation:\")\n",
    "print(combined_recipes_df['cuisine'].value_counts())\n",
    "print(f\"Missing values in 'cuisine' after title-based imputation: {combined_recipes_df['cuisine'].isna().sum()}\")"
   ]
  },
  {
   "cell_type": "markdown",
   "id": "eda9c5d4",
   "metadata": {},
   "source": [
    "### Advanced method for Data imputations"
   ]
  },
  {
   "cell_type": "code",
   "execution_count": 18,
   "id": "e210b4a4",
   "metadata": {},
   "outputs": [
    {
     "name": "stdout",
     "output_type": "stream",
     "text": [
      "Shape of TF-IDF ingredient vectors: (2231152, 72520)\n"
     ]
    }
   ],
   "source": [
    "# Convert ingredients_list to a single string for each recipe\n",
    "combined_recipes_df['ingredients_str'] = combined_recipes_df['ingredients_list'].apply(lambda x: ' '.join(x))\n",
    "\n",
    "# Initialize the TF-IDF Vectorizer\n",
    "tfidf_vectorizer = TfidfVectorizer()\n",
    "\n",
    "# Fit and transform the ingredients strings\n",
    "ingredient_vectors = tfidf_vectorizer.fit_transform(combined_recipes_df['ingredients_str'])\n",
    "\n",
    "print(f\"Shape of TF-IDF ingredient vectors: {ingredient_vectors.shape}\")"
   ]
  },
  {
   "cell_type": "code",
   "execution_count": 23,
   "id": "6bb56872",
   "metadata": {},
   "outputs": [
    {
     "name": "stdout",
     "output_type": "stream",
     "text": [
      "  cuisine  cluster\n",
      "0  indian        6\n",
      "1  indian        6\n",
      "2  indian       17\n",
      "3  indian       18\n",
      "4  indian        6\n"
     ]
    }
   ],
   "source": [
    "# Step 1: Apply Truncated SVD to reduce dimensionality\n",
    "n_components = 100  # Choose the number of components\n",
    "svd = TruncatedSVD(n_components=n_components, random_state=42)\n",
    "\n",
    "# Transform the TF-IDF vectors into a lower-dimensional space\n",
    "ingredient_vectors_reduced = svd.fit_transform(ingredient_vectors)\n",
    "\n",
    "# Step 2: Fit K-Means clustering on the reduced data\n",
    "n_clusters = 20  # Set the number of clusters\n",
    "kmeans = KMeans(n_clusters=n_clusters, random_state=42)\n",
    "\n",
    "# Fit the model and predict cluster assignments\n",
    "combined_recipes_df['cluster'] = kmeans.fit_predict(ingredient_vectors_reduced)\n",
    "\n",
    "# Check the first few cluster assignments\n",
    "print(combined_recipes_df[['cuisine', 'cluster']].head())"
   ]
  },
  {
   "cell_type": "code",
   "execution_count": 24,
   "id": "67c2ab9d",
   "metadata": {},
   "outputs": [
    {
     "name": "stdout",
     "output_type": "stream",
     "text": [
      "Missing values in 'cuisine' after K-Means based imputation: 0\n"
     ]
    }
   ],
   "source": [
    "# Create a mapping of clusters to the most common cuisine within that cluster\n",
    "cluster_to_cuisine = combined_recipes_df.groupby('cluster')['cuisine'].apply(lambda x: x.mode()[0] if not x.mode().empty else 'Unknown')\n",
    "\n",
    "# Fill missing cuisine values based on cluster assignment\n",
    "combined_recipes_df.loc[combined_recipes_df['cuisine'].isnull(), 'cuisine'] = combined_recipes_df['cluster'].map(cluster_to_cuisine)\n",
    "\n",
    "# Check how many missing values remain\n",
    "print(f\"Missing values in 'cuisine' after K-Means based imputation: {combined_recipes_df['cuisine'].isna().sum()}\")"
   ]
  },
  {
   "cell_type": "code",
   "execution_count": 27,
   "id": "edb0eda7",
   "metadata": {},
   "outputs": [],
   "source": [
    "combined_recipes_df.to_pickle('./../Data_model/processed_recipes_data.pkl')"
   ]
  }
 ],
 "metadata": {
  "kernelspec": {
   "display_name": "Python 3 (ipykernel)",
   "language": "python",
   "name": "python3"
  },
  "language_info": {
   "codemirror_mode": {
    "name": "ipython",
    "version": 3
   },
   "file_extension": ".py",
   "mimetype": "text/x-python",
   "name": "python",
   "nbconvert_exporter": "python",
   "pygments_lexer": "ipython3",
   "version": "3.11.3"
  },
  "toc": {
   "base_numbering": 1,
   "nav_menu": {},
   "number_sections": true,
   "sideBar": true,
   "skip_h1_title": false,
   "title_cell": "Table of Contents",
   "title_sidebar": "Contents",
   "toc_cell": false,
   "toc_position": {
    "height": "calc(100% - 180px)",
    "left": "10px",
    "top": "150px",
    "width": "306.542px"
   },
   "toc_section_display": true,
   "toc_window_display": true
  }
 },
 "nbformat": 4,
 "nbformat_minor": 5
}
