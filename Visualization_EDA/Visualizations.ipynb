{
 "cells": [
  {
   "cell_type": "markdown",
   "id": "f3361769",
   "metadata": {},
   "source": [
    "# Load the processed data model and other libraries"
   ]
  },
  {
   "cell_type": "code",
   "execution_count": 1,
   "id": "e0ee2034",
   "metadata": {
    "ExecuteTime": {
     "end_time": "2024-10-17T05:28:12.700733Z",
     "start_time": "2024-10-17T05:28:08.960748Z"
    }
   },
   "outputs": [
    {
     "data": {
      "text/plain": [
       "DataTransformerRegistry.enable('vegafusion')"
      ]
     },
     "execution_count": 1,
     "metadata": {},
     "output_type": "execute_result"
    }
   ],
   "source": [
    "import pandas as pd\n",
    "import seaborn as sns\n",
    "import matplotlib.pyplot as plt\n",
    "import altair as alt\n",
    "import plotly.express as px\n",
    "from hiplot import Experiment\n",
    "\n",
    "alt.data_transformers.enable('vegafusion')"
   ]
  },
  {
   "cell_type": "code",
   "execution_count": 4,
   "id": "cfe50667",
   "metadata": {
    "ExecuteTime": {
     "end_time": "2024-10-17T05:30:14.860929Z",
     "start_time": "2024-10-17T05:29:51.646967Z"
    }
   },
   "outputs": [],
   "source": [
    "# Load the cleaned DataFrame\n",
    "balanced_df = pd.read_pickle('./../../NLP_NLG_Recipe_prediction_generation_app_data/Data_Diagnostics_data/balanced_recipes_dataset.pkl')"
   ]
  },
  {
   "cell_type": "code",
   "execution_count": 5,
   "id": "e33c2613",
   "metadata": {
    "ExecuteTime": {
     "end_time": "2024-10-17T05:30:26.706058Z",
     "start_time": "2024-10-17T05:30:26.586249Z"
    }
   },
   "outputs": [
    {
     "data": {
      "text/plain": [
       "(                                         recipe_title  \\\n",
       " 10                                 Braised Anise Beef   \n",
       " 11                                       Braised Beef   \n",
       " 12                      Crock Pot Shredded French Dip   \n",
       " 13                         Creamy Summertime Coleslaw   \n",
       " 14  Beef Tenderloin Steaks with Seared Mushrooms a...   \n",
       " \n",
       "                                      ingredients_list  \\\n",
       " 10  beef chuck garlic oil dsh pepper salt sherry s...   \n",
       " 11  scallion sherry sugar garlic salt pepper peanu...   \n",
       " 12  chuck roast garlic ground mustard seasoning be...   \n",
       " 13  apple cider vinegar cabbage chives yogurt garl...   \n",
       " 14  bacon beef tenderloin steaks pepper cremini mu...   \n",
       " \n",
       "                                          instructions  cuisine link source  \\\n",
       " 10  <ol><li>1. Leave beef whole. Crush garlic.</li...  italian  NaN    NaN   \n",
       " 11  Cut green part of scallion into 2\" pieces. Com...  italian  NaN    NaN   \n",
       " 12  <ol><li>Place beef in crock pot. Add beef brot...  italian  NaN    NaN   \n",
       " 13  <ol><li>Pour the contents of the pound bag of ...  italian  NaN    NaN   \n",
       " 14  <ol><li>1. Brush the steaks on both sides with...  italian  NaN    NaN   \n",
       " \n",
       "     NER                                    ingredients_str  cluster  \n",
       " 10  NaN  beef chuck garlic oil dsh pepper salt sherry s...       14  \n",
       " 11  NaN  scallion sherry sugar garlic salt pepper peanu...       14  \n",
       " 12  NaN  chuck roast garlic ground mustard seasoning be...        8  \n",
       " 13  NaN  apple cider vinegar cabbage chives yogurt garl...       14  \n",
       " 14  NaN  bacon beef tenderloin steaks pepper cremini mu...       14  ,\n",
       " (3587878, 9))"
      ]
     },
     "execution_count": 5,
     "metadata": {},
     "output_type": "execute_result"
    }
   ],
   "source": [
    "balanced_df.head(n=5), balanced_df.shape"
   ]
  },
  {
   "cell_type": "markdown",
   "id": "7a3057b0",
   "metadata": {},
   "source": [
    "# Visualization & Findings | EDA"
   ]
  },
  {
   "cell_type": "code",
   "execution_count": 6,
   "id": "1ab799fa",
   "metadata": {
    "ExecuteTime": {
     "end_time": "2024-10-17T05:30:28.309520Z",
     "start_time": "2024-10-17T05:30:28.298138Z"
    }
   },
   "outputs": [],
   "source": [
    "# Data: counts for each cuisine category\n",
    "cuisine_counts = {\n",
    "    'italian': 1793939,\n",
    "    'mexican': 808277,\n",
    "    'chinese': 778904,\n",
    "    'indian': 114397,\n",
    "    'mediterranean': 43804,\n",
    "    'southern_us': 35726,\n",
    "    'spanish': 5096,\n",
    "    'japanese': 5027,\n",
    "    'middle eastern': 1007,\n",
    "    'vietnamese': 818,\n",
    "    'greek': 774,\n",
    "    'french': 38,\n",
    "    'jamaican': 26,\n",
    "    'moroccan': 19,\n",
    "    'brazilian': 19,\n",
    "    'cajun_creole': 7\n",
    "}"
   ]
  },
  {
   "cell_type": "code",
   "execution_count": 7,
   "id": "3b9e49fa",
   "metadata": {
    "ExecuteTime": {
     "end_time": "2024-10-17T05:30:28.762074Z",
     "start_time": "2024-10-17T05:30:28.726470Z"
    }
   },
   "outputs": [],
   "source": [
    "cuisine_counts_df = pd.DataFrame(list(cuisine_counts.items()), columns=['cuisine', 'count'])\n",
    "\n",
    "# Define majority and minority classes\n",
    "majority_classes = ['italian', 'mexican', 'chinese', 'indian']\n",
    "minority_classes = [\n",
    "    'mediterranean', 'southern_us', 'spanish', 'japanese',\n",
    "    'middle eastern', 'vietnamese', 'greek', 'french',\n",
    "    'jamaican', 'moroccan', 'brazilian', 'cajun_creole'\n",
    "]"
   ]
  },
  {
   "cell_type": "code",
   "execution_count": 8,
   "id": "47c51820",
   "metadata": {
    "ExecuteTime": {
     "end_time": "2024-10-17T05:30:29.115604Z",
     "start_time": "2024-10-17T05:30:29.091885Z"
    }
   },
   "outputs": [],
   "source": [
    "# 1. Count Plot using Seaborn for Majority and Minority Classes\n",
    "def plot_cuisine_distribution():\n",
    "    \n",
    "    plt.figure(figsize=(16, 8))\n",
    "\n",
    "    # Majority Classes\n",
    "    plt.subplot(1, 2, 1)\n",
    "    sns.barplot(data=cuisine_counts_df[cuisine_counts_df['cuisine'].isin(majority_classes)],\n",
    "                x='cuisine', y='count', palette='viridis')\n",
    "    plt.title('Majority Cuisine Distribution')\n",
    "    plt.xticks(rotation=45)\n",
    "    plt.ylim(0, 2000000)  # Adjust upper limit\n",
    "    plt.xlabel('Cuisine')\n",
    "    plt.ylabel('Count')\n",
    "\n",
    "    # Minority Classes\n",
    "    plt.subplot(1, 2, 2)\n",
    "    sns.barplot(data=cuisine_counts_df[cuisine_counts_df['cuisine'].isin(minority_classes)],\n",
    "                x='cuisine', y='count', palette='viridis')\n",
    "    plt.title('Minority Cuisine Distribution')\n",
    "    plt.xticks(rotation=45)\n",
    "    plt.ylim(0, 200000)  # Adjust upper limit for visibility\n",
    "    plt.xlabel('Cuisine')\n",
    "    plt.ylabel('Count')\n",
    "\n",
    "    plt.tight_layout()\n",
    "    plt.show()\n",
    "    \n",
    "# plot_cuisine_distribution()"
   ]
  },
  {
   "cell_type": "code",
   "execution_count": 9,
   "id": "ea7cfae5",
   "metadata": {
    "ExecuteTime": {
     "end_time": "2024-10-17T05:31:00.295840Z",
     "start_time": "2024-10-17T05:30:29.482036Z"
    }
   },
   "outputs": [],
   "source": [
    "balanced_df['num_unique_ingredients'] = balanced_df['ingredients_list'].apply(lambda x: len(set(x.split())))\n",
    "\n",
    "def plot_unique_ingredients_boxplot():\n",
    "    plt.figure(figsize=(16, 8))\n",
    "\n",
    "    # Majority Classes\n",
    "    plt.subplot(1, 2, 1)\n",
    "    sns.boxplot(data=balanced_df[balanced_df['cuisine'].isin(majority_classes)],\n",
    "                x='cuisine', y='num_unique_ingredients', palette='viridis')\n",
    "    plt.title('Majority Classes: Unique Ingredients')\n",
    "    plt.xticks(rotation=45)\n",
    "    plt.ylim(0, balanced_df['num_unique_ingredients'].max() * 1.1)\n",
    "    plt.xlabel('Cuisine')\n",
    "    plt.ylabel('Number of Unique Ingredients')\n",
    "\n",
    "    # Minority Classes\n",
    "    plt.subplot(1, 2, 2)\n",
    "    sns.boxplot(data=balanced_df[balanced_df['cuisine'].isin(minority_classes)],\n",
    "                x='cuisine', y='num_unique_ingredients', palette='viridis')\n",
    "    plt.title('Minority Classes: Unique Ingredients')\n",
    "    plt.xticks(rotation=45)\n",
    "    plt.ylim(0, balanced_df['num_unique_ingredients'].max() * 1.1)\n",
    "    plt.xlabel('Cuisine')\n",
    "    plt.ylabel('Number of Unique Ingredients')\n",
    "\n",
    "    plt.tight_layout()\n",
    "    plt.show()\n",
    "\n",
    "# plot_unique_ingredients_boxplot()"
   ]
  },
  {
   "cell_type": "code",
   "execution_count": 10,
   "id": "31e8debc",
   "metadata": {
    "ExecuteTime": {
     "end_time": "2024-10-17T05:31:00.313282Z",
     "start_time": "2024-10-17T05:31:00.300843Z"
    }
   },
   "outputs": [],
   "source": [
    "def plot_interactive_scatter():\n",
    "    # Majority Classes\n",
    "    fig_majority = px.scatter(balanced_df[balanced_df['cuisine'].isin(majority_classes)],\n",
    "                               x='num_unique_ingredients', y='cuisine',\n",
    "                               color='cuisine', title='Majority Classes: Unique Ingredients',\n",
    "                               labels={'num_unique_ingredients': 'Number of Unique Ingredients'},\n",
    "                               height=400)\n",
    "    fig_majority.show()\n",
    "\n",
    "    # Minority Classes\n",
    "    fig_minority = px.scatter(balanced_df[balanced_df['cuisine'].isin(minority_classes)],\n",
    "                               x='num_unique_ingredients', y='cuisine',\n",
    "                               color='cuisine', title='Minority Classes: Unique Ingredients',\n",
    "                               labels={'num_unique_ingredients': 'Number of Unique Ingredients'},\n",
    "                               height=400)\n",
    "    fig_minority.show()\n",
    "    \n",
    "# plot_interactive_scatter()"
   ]
  },
  {
   "cell_type": "code",
   "execution_count": 11,
   "id": "97ae31c9",
   "metadata": {
    "ExecuteTime": {
     "end_time": "2024-10-17T05:31:00.328974Z",
     "start_time": "2024-10-17T05:31:00.319334Z"
    }
   },
   "outputs": [],
   "source": [
    "def plot_ingredients_histogram():\n",
    "    plt.figure(figsize=(16, 8))\n",
    "\n",
    "    # Majority Classes\n",
    "    plt.subplot(1, 2, 1)\n",
    "    sns.histplot(data=balanced_df[balanced_df['cuisine'].isin(majority_classes)],\n",
    "                 x='num_unique_ingredients', hue='cuisine', multiple='stack', palette='viridis')\n",
    "    plt.title('Majority Classes: Distribution of Unique Ingredients')\n",
    "    plt.xlabel('Number of Unique Ingredients')\n",
    "    plt.ylabel('Frequency')\n",
    "\n",
    "    # Minority Classes\n",
    "    plt.subplot(1, 2, 2)\n",
    "    sns.histplot(data=balanced_df[balanced_df['cuisine'].isin(minority_classes)],\n",
    "                 x='num_unique_ingredients', hue='cuisine', multiple='stack', palette='viridis')\n",
    "    plt.title('Minority Classes: Distribution of Unique Ingredients')\n",
    "    plt.xlabel('Number of Unique Ingredients')\n",
    "    plt.ylabel('Frequency')\n",
    "\n",
    "    plt.tight_layout()\n",
    "    plt.show()\n",
    "\n",
    "# plot_ingredients_histogram()"
   ]
  },
  {
   "cell_type": "code",
   "execution_count": 12,
   "id": "8ce52b1d",
   "metadata": {
    "ExecuteTime": {
     "end_time": "2024-10-17T05:31:00.341586Z",
     "start_time": "2024-10-17T05:31:00.332827Z"
    }
   },
   "outputs": [],
   "source": [
    "def plot_correlation_heatmap():\n",
    "    # Pivot the dataset for heatmap preparation\n",
    "    pivot_df = balanced_df.pivot_table(index='cuisine', values='num_unique_ingredients', aggfunc='mean')\n",
    "\n",
    "    plt.figure(figsize=(10, 6))\n",
    "    sns.heatmap(pivot_df, annot=True, cmap='coolwarm')\n",
    "    plt.title('Mean Number of Unique Ingredients per Cuisine')\n",
    "    plt.ylabel('Cuisine')\n",
    "    plt.xlabel('Mean Number of Unique Ingredients')\n",
    "    plt.show()\n",
    "\n",
    "# plot_correlation_heatmap()"
   ]
  }
 ],
 "metadata": {
  "kernelspec": {
   "display_name": "Python 3 (ipykernel)",
   "language": "python",
   "name": "python3"
  },
  "language_info": {
   "codemirror_mode": {
    "name": "ipython",
    "version": 3
   },
   "file_extension": ".py",
   "mimetype": "text/x-python",
   "name": "python",
   "nbconvert_exporter": "python",
   "pygments_lexer": "ipython3",
   "version": "3.11.3"
  },
  "toc": {
   "base_numbering": 1,
   "nav_menu": {},
   "number_sections": true,
   "sideBar": true,
   "skip_h1_title": false,
   "title_cell": "Table of Contents",
   "title_sidebar": "Contents",
   "toc_cell": false,
   "toc_position": {
    "height": "calc(100% - 180px)",
    "left": "10px",
    "top": "150px",
    "width": "303.542px"
   },
   "toc_section_display": true,
   "toc_window_display": true
  }
 },
 "nbformat": 4,
 "nbformat_minor": 5
}
