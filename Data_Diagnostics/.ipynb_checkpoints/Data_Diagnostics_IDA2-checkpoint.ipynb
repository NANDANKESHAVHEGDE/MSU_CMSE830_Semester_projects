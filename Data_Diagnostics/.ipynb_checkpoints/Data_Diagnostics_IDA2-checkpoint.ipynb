{
 "cells": [
  {
   "cell_type": "markdown",
   "id": "fb51aca5",
   "metadata": {},
   "source": [
    "# Further Data Diagnostics of the processes data"
   ]
  },
  {
   "cell_type": "code",
   "execution_count": 12,
   "id": "1c4ffdac",
   "metadata": {
    "ExecuteTime": {
     "end_time": "2024-10-17T00:29:32.224464Z",
     "start_time": "2024-10-17T00:29:32.176109Z"
    }
   },
   "outputs": [],
   "source": [
    "import pandas as pd\n",
    "import seaborn as sns\n",
    "import matplotlib.pyplot as plt\n",
    "import scipy.sparse as sp\n",
    "import joblib\n",
    "import warnings\n",
    "warnings.filterwarnings('ignore')\n",
    "\n",
    "from sklearn.utils import resample\n",
    "from imblearn.over_sampling import SMOTE\n",
    "from sklearn.model_selection import train_test_split\n",
    "from sklearn.ensemble import RandomForestClassifier\n",
    "from sklearn.metrics import classification_report, confusion_matrix\n",
    "from sklearn.metrics import precision_recall_fscore_support, confusion_matrix, classification_report\n",
    "from sklearn.feature_extraction.text import TfidfVectorizer"
   ]
  },
  {
   "cell_type": "code",
   "execution_count": 2,
   "id": "f298a79d",
   "metadata": {
    "ExecuteTime": {
     "end_time": "2024-10-16T22:13:23.532457Z",
     "start_time": "2024-10-16T22:12:39.871943Z"
    }
   },
   "outputs": [],
   "source": [
    "# Load the cleaned DataFrame\n",
    "combined_recipes_df = pd.read_pickle('./../Data_model/processed_recipes_data.pkl')"
   ]
  },
  {
   "cell_type": "code",
   "execution_count": 3,
   "id": "a5af3d31",
   "metadata": {
    "ExecuteTime": {
     "end_time": "2024-10-16T22:15:33.514188Z",
     "start_time": "2024-10-16T22:13:23.570997Z"
    }
   },
   "outputs": [],
   "source": [
    "# Convert lists or tuples in 'ingredients_list' and 'recipe_title' to strings (joining by space)\n",
    "combined_recipes_df['ingredients_list'] = combined_recipes_df['ingredients_list'].apply(lambda x: ' '.join(x) if isinstance(x, (list, tuple)) else str(x))\n",
    "combined_recipes_df['recipe_title'] = combined_recipes_df['recipe_title'].apply(lambda x: ' '.join(x) if isinstance(x, (list, tuple)) else str(x))\n",
    "\n",
    "# Features (ingredients_list and recipe_title) and target (cuisine)\n",
    "X = combined_recipes_df[['ingredients_list', 'recipe_title']]\n",
    "y = combined_recipes_df['cuisine']\n",
    "\n",
    "# Initialize TF-IDF vectorizers for both ingredients_list and recipe_title\n",
    "tfidf_ingredients = TfidfVectorizer(max_features=100)  # Limit to 100 most relevant words\n",
    "tfidf_title = TfidfVectorizer(max_features=100)         # Limit to 100 most relevant words\n",
    "\n",
    "# Fit and transform both ingredients_list and recipe_title\n",
    "X_ingredients = tfidf_ingredients.fit_transform(X['ingredients_list'])\n",
    "X_title = tfidf_title.fit_transform(X['recipe_title'])\n",
    "\n",
    "# Combine both vectorized features into one sparse matrix\n",
    "X_combined = sp.hstack([X_ingredients, X_title])"
   ]
  },
  {
   "cell_type": "code",
   "execution_count": 6,
   "id": "b0c70013",
   "metadata": {
    "ExecuteTime": {
     "end_time": "2024-10-16T22:19:27.728061Z",
     "start_time": "2024-10-16T22:16:22.690633Z"
    }
   },
   "outputs": [
    {
     "name": "stdout",
     "output_type": "stream",
     "text": [
      "italian           1793939\n",
      "mexican            808277\n",
      "chinese            778904\n",
      "indian             114397\n",
      "mediterranean       43804\n",
      "southern_us         35726\n",
      "spanish              5096\n",
      "japanese             5027\n",
      "middle eastern       1007\n",
      "vietnamese            818\n",
      "greek                 774\n",
      "french                 38\n",
      "jamaican               26\n",
      "moroccan               19\n",
      "brazilian              19\n",
      "cajun_creole            7\n",
      "Name: cuisine, dtype: int64\n"
     ]
    }
   ],
   "source": [
    "# Combine original data into a DataFrame\n",
    "original_data = combined_recipes_df.copy()\n",
    "original_data['cuisine'] = y\n",
    "\n",
    "# Separate majority and minority classes\n",
    "majority_class = original_data[original_data['cuisine'] == original_data['cuisine'].value_counts().idxmax()]\n",
    "minority_classes = original_data[original_data['cuisine'] != original_data['cuisine'].value_counts().idxmax()]\n",
    "\n",
    "# Randomly oversample minority classes\n",
    "minority_upsampled = resample(minority_classes,\n",
    "                              replace=True,     # Sample with replacement\n",
    "                              n_samples=majority_class.shape[0],  # Match the number of majority class samples\n",
    "                              random_state=42)  # Reproducible results\n",
    "\n",
    "# Combine majority class with upsampled minority class\n",
    "balanced_df = pd.concat([majority_class, minority_upsampled])\n",
    "\n",
    "# Check the class distribution of the balanced dataset\n",
    "print(balanced_df['cuisine'].value_counts())\n",
    "\n",
    "# Prepare the final features and target for the balanced dataset\n",
    "X_balanced = balanced_df[['ingredients_list', 'recipe_title']]\n",
    "y_balanced = balanced_df['cuisine']\n",
    "\n",
    "# Transform the balanced dataset using the same TF-IDF vectorizers\n",
    "X_ingredients_balanced = tfidf_ingredients.transform(X_balanced['ingredients_list'])\n",
    "X_title_balanced = tfidf_title.transform(X_balanced['recipe_title'])\n",
    "\n",
    "# Combine both vectorized features into one sparse matrix\n",
    "X_combined_balanced = sp.hstack([X_ingredients_balanced, X_title_balanced])"
   ]
  },
  {
   "cell_type": "code",
   "execution_count": 7,
   "id": "46e6793c",
   "metadata": {
    "ExecuteTime": {
     "end_time": "2024-10-16T22:20:55.822579Z",
     "start_time": "2024-10-16T22:20:55.514612Z"
    }
   },
   "outputs": [
    {
     "data": {
      "text/html": [
       "<div>\n",
       "<style scoped>\n",
       "    .dataframe tbody tr th:only-of-type {\n",
       "        vertical-align: middle;\n",
       "    }\n",
       "\n",
       "    .dataframe tbody tr th {\n",
       "        vertical-align: top;\n",
       "    }\n",
       "\n",
       "    .dataframe thead th {\n",
       "        text-align: right;\n",
       "    }\n",
       "</style>\n",
       "<table border=\"1\" class=\"dataframe\">\n",
       "  <thead>\n",
       "    <tr style=\"text-align: right;\">\n",
       "      <th></th>\n",
       "      <th>recipe_title</th>\n",
       "      <th>ingredients_list</th>\n",
       "      <th>instructions</th>\n",
       "      <th>cuisine</th>\n",
       "      <th>link</th>\n",
       "      <th>source</th>\n",
       "      <th>NER</th>\n",
       "      <th>ingredients_str</th>\n",
       "      <th>cluster</th>\n",
       "    </tr>\n",
       "  </thead>\n",
       "  <tbody>\n",
       "    <tr>\n",
       "      <th>10</th>\n",
       "      <td>Braised Anise Beef</td>\n",
       "      <td>beef chuck garlic oil dsh pepper salt sherry s...</td>\n",
       "      <td>&lt;ol&gt;&lt;li&gt;1. Leave beef whole. Crush garlic.&lt;/li...</td>\n",
       "      <td>italian</td>\n",
       "      <td>NaN</td>\n",
       "      <td>NaN</td>\n",
       "      <td>NaN</td>\n",
       "      <td>beef chuck garlic oil dsh pepper salt sherry s...</td>\n",
       "      <td>14</td>\n",
       "    </tr>\n",
       "    <tr>\n",
       "      <th>11</th>\n",
       "      <td>Braised Beef</td>\n",
       "      <td>scallion sherry sugar garlic salt pepper peanu...</td>\n",
       "      <td>Cut green part of scallion into 2\" pieces. Com...</td>\n",
       "      <td>italian</td>\n",
       "      <td>NaN</td>\n",
       "      <td>NaN</td>\n",
       "      <td>NaN</td>\n",
       "      <td>scallion sherry sugar garlic salt pepper peanu...</td>\n",
       "      <td>14</td>\n",
       "    </tr>\n",
       "    <tr>\n",
       "      <th>12</th>\n",
       "      <td>Crock Pot Shredded French Dip</td>\n",
       "      <td>chuck roast garlic ground mustard seasoning be...</td>\n",
       "      <td>&lt;ol&gt;&lt;li&gt;Place beef in crock pot. Add beef brot...</td>\n",
       "      <td>italian</td>\n",
       "      <td>NaN</td>\n",
       "      <td>NaN</td>\n",
       "      <td>NaN</td>\n",
       "      <td>chuck roast garlic ground mustard seasoning be...</td>\n",
       "      <td>8</td>\n",
       "    </tr>\n",
       "    <tr>\n",
       "      <th>13</th>\n",
       "      <td>Creamy Summertime Coleslaw</td>\n",
       "      <td>apple cider vinegar cabbage chives yogurt garl...</td>\n",
       "      <td>&lt;ol&gt;&lt;li&gt;Pour the contents of the pound bag of ...</td>\n",
       "      <td>italian</td>\n",
       "      <td>NaN</td>\n",
       "      <td>NaN</td>\n",
       "      <td>NaN</td>\n",
       "      <td>apple cider vinegar cabbage chives yogurt garl...</td>\n",
       "      <td>14</td>\n",
       "    </tr>\n",
       "    <tr>\n",
       "      <th>14</th>\n",
       "      <td>Beef Tenderloin Steaks with Seared Mushrooms a...</td>\n",
       "      <td>bacon beef tenderloin steaks pepper cremini mu...</td>\n",
       "      <td>&lt;ol&gt;&lt;li&gt;1. Brush the steaks on both sides with...</td>\n",
       "      <td>italian</td>\n",
       "      <td>NaN</td>\n",
       "      <td>NaN</td>\n",
       "      <td>NaN</td>\n",
       "      <td>bacon beef tenderloin steaks pepper cremini mu...</td>\n",
       "      <td>14</td>\n",
       "    </tr>\n",
       "    <tr>\n",
       "      <th>80</th>\n",
       "      <td>Asparagus Lemon Risotto</td>\n",
       "      <td>vegetable broth water olive oil onion garlic a...</td>\n",
       "      <td>In a large saucepan, combine broth and water. ...</td>\n",
       "      <td>italian</td>\n",
       "      <td>NaN</td>\n",
       "      <td>NaN</td>\n",
       "      <td>NaN</td>\n",
       "      <td>vegetable broth water olive oil onion garlic a...</td>\n",
       "      <td>14</td>\n",
       "    </tr>\n",
       "    <tr>\n",
       "      <th>81</th>\n",
       "      <td>Spring Risotto with Shrimp, Asparagus and Arti...</td>\n",
       "      <td>vegetable broth butter shallot garlic glove ar...</td>\n",
       "      <td>In a small saucepan, bring chicken/vegetable b...</td>\n",
       "      <td>italian</td>\n",
       "      <td>NaN</td>\n",
       "      <td>NaN</td>\n",
       "      <td>NaN</td>\n",
       "      <td>vegetable broth butter shallot garlic glove ar...</td>\n",
       "      <td>14</td>\n",
       "    </tr>\n",
       "    <tr>\n",
       "      <th>82</th>\n",
       "      <td>Risotto With Fresh Peas</td>\n",
       "      <td>chicken stock butter extra virgin olive oil on...</td>\n",
       "      <td>Melt butter in heavy large saucepan over mediu...</td>\n",
       "      <td>italian</td>\n",
       "      <td>NaN</td>\n",
       "      <td>NaN</td>\n",
       "      <td>NaN</td>\n",
       "      <td>chicken stock butter extra virgin olive oil on...</td>\n",
       "      <td>12</td>\n",
       "    </tr>\n",
       "    <tr>\n",
       "      <th>83</th>\n",
       "      <td>Moules Marinière (Mussels with Garlic and Pars...</td>\n",
       "      <td>mussels butter leek shallot garlic bay leaves ...</td>\n",
       "      <td>In a large saucepan with a lid, over medium he...</td>\n",
       "      <td>italian</td>\n",
       "      <td>NaN</td>\n",
       "      <td>NaN</td>\n",
       "      <td>NaN</td>\n",
       "      <td>mussels butter leek shallot garlic bay leaves ...</td>\n",
       "      <td>14</td>\n",
       "    </tr>\n",
       "    <tr>\n",
       "      <th>84</th>\n",
       "      <td>Lemony Brown Rice With Baby Spinach</td>\n",
       "      <td>baby spinach brown rice green onions squeezes ...</td>\n",
       "      <td>&lt;ol&gt;&lt;li&gt;Cook rice as directed.&lt;/li&gt;&lt;li&gt;Add spi...</td>\n",
       "      <td>italian</td>\n",
       "      <td>NaN</td>\n",
       "      <td>NaN</td>\n",
       "      <td>NaN</td>\n",
       "      <td>baby spinach brown rice green onions squeezes ...</td>\n",
       "      <td>14</td>\n",
       "    </tr>\n",
       "  </tbody>\n",
       "</table>\n",
       "</div>"
      ],
      "text/plain": [
       "                                         recipe_title  \\\n",
       "10                                 Braised Anise Beef   \n",
       "11                                       Braised Beef   \n",
       "12                      Crock Pot Shredded French Dip   \n",
       "13                         Creamy Summertime Coleslaw   \n",
       "14  Beef Tenderloin Steaks with Seared Mushrooms a...   \n",
       "80                            Asparagus Lemon Risotto   \n",
       "81  Spring Risotto with Shrimp, Asparagus and Arti...   \n",
       "82                            Risotto With Fresh Peas   \n",
       "83  Moules Marinière (Mussels with Garlic and Pars...   \n",
       "84                Lemony Brown Rice With Baby Spinach   \n",
       "\n",
       "                                     ingredients_list  \\\n",
       "10  beef chuck garlic oil dsh pepper salt sherry s...   \n",
       "11  scallion sherry sugar garlic salt pepper peanu...   \n",
       "12  chuck roast garlic ground mustard seasoning be...   \n",
       "13  apple cider vinegar cabbage chives yogurt garl...   \n",
       "14  bacon beef tenderloin steaks pepper cremini mu...   \n",
       "80  vegetable broth water olive oil onion garlic a...   \n",
       "81  vegetable broth butter shallot garlic glove ar...   \n",
       "82  chicken stock butter extra virgin olive oil on...   \n",
       "83  mussels butter leek shallot garlic bay leaves ...   \n",
       "84  baby spinach brown rice green onions squeezes ...   \n",
       "\n",
       "                                         instructions  cuisine link source  \\\n",
       "10  <ol><li>1. Leave beef whole. Crush garlic.</li...  italian  NaN    NaN   \n",
       "11  Cut green part of scallion into 2\" pieces. Com...  italian  NaN    NaN   \n",
       "12  <ol><li>Place beef in crock pot. Add beef brot...  italian  NaN    NaN   \n",
       "13  <ol><li>Pour the contents of the pound bag of ...  italian  NaN    NaN   \n",
       "14  <ol><li>1. Brush the steaks on both sides with...  italian  NaN    NaN   \n",
       "80  In a large saucepan, combine broth and water. ...  italian  NaN    NaN   \n",
       "81  In a small saucepan, bring chicken/vegetable b...  italian  NaN    NaN   \n",
       "82  Melt butter in heavy large saucepan over mediu...  italian  NaN    NaN   \n",
       "83  In a large saucepan with a lid, over medium he...  italian  NaN    NaN   \n",
       "84  <ol><li>Cook rice as directed.</li><li>Add spi...  italian  NaN    NaN   \n",
       "\n",
       "    NER                                    ingredients_str  cluster  \n",
       "10  NaN  beef chuck garlic oil dsh pepper salt sherry s...       14  \n",
       "11  NaN  scallion sherry sugar garlic salt pepper peanu...       14  \n",
       "12  NaN  chuck roast garlic ground mustard seasoning be...        8  \n",
       "13  NaN  apple cider vinegar cabbage chives yogurt garl...       14  \n",
       "14  NaN  bacon beef tenderloin steaks pepper cremini mu...       14  \n",
       "80  NaN  vegetable broth water olive oil onion garlic a...       14  \n",
       "81  NaN  vegetable broth butter shallot garlic glove ar...       14  \n",
       "82  NaN  chicken stock butter extra virgin olive oil on...       12  \n",
       "83  NaN  mussels butter leek shallot garlic bay leaves ...       14  \n",
       "84  NaN  baby spinach brown rice green onions squeezes ...       14  "
      ]
     },
     "execution_count": 7,
     "metadata": {},
     "output_type": "execute_result"
    }
   ],
   "source": [
    "balanced_df.head(n=10)"
   ]
  },
  {
   "cell_type": "code",
   "execution_count": 10,
   "id": "ec359cb7",
   "metadata": {
    "ExecuteTime": {
     "end_time": "2024-10-16T22:23:37.283977Z",
     "start_time": "2024-10-16T22:22:48.866206Z"
    }
   },
   "outputs": [],
   "source": [
    "# Save the balanced dataset as a pickle file\n",
    "balanced_df.to_pickle('balanced_recipes_dataset.pkl')"
   ]
  },
  {
   "cell_type": "code",
   "execution_count": 13,
   "id": "72238fba",
   "metadata": {
    "ExecuteTime": {
     "end_time": "2024-10-17T00:31:17.767388Z",
     "start_time": "2024-10-17T00:29:35.424545Z"
    }
   },
   "outputs": [
    {
     "data": {
      "text/plain": [
       "['balanced_data.pkl']"
      ]
     },
     "execution_count": 13,
     "metadata": {},
     "output_type": "execute_result"
    }
   ],
   "source": [
    "joblib.dump(balanced_df, 'balanced_data.pkl')"
   ]
  }
 ],
 "metadata": {
  "kernelspec": {
   "display_name": "Python 3 (ipykernel)",
   "language": "python",
   "name": "python3"
  },
  "language_info": {
   "codemirror_mode": {
    "name": "ipython",
    "version": 3
   },
   "file_extension": ".py",
   "mimetype": "text/x-python",
   "name": "python",
   "nbconvert_exporter": "python",
   "pygments_lexer": "ipython3",
   "version": "3.11.3"
  },
  "toc": {
   "base_numbering": 1,
   "nav_menu": {},
   "number_sections": true,
   "sideBar": true,
   "skip_h1_title": false,
   "title_cell": "Table of Contents",
   "title_sidebar": "Contents",
   "toc_cell": false,
   "toc_position": {
    "height": "calc(100% - 180px)",
    "left": "10px",
    "top": "150px",
    "width": "294.542px"
   },
   "toc_section_display": true,
   "toc_window_display": true
  }
 },
 "nbformat": 4,
 "nbformat_minor": 5
}
